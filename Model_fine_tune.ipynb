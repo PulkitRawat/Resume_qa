{
 "cells": [
  {
   "cell_type": "code",
   "execution_count": 2,
   "id": "16c85113-21bd-46fb-bd6b-ae5e77d61c96",
   "metadata": {},
   "outputs": [],
   "source": [
    "import pandas as pd\n",
    "import json"
   ]
  },
  {
   "cell_type": "code",
   "execution_count": 4,
   "id": "6b1699c8-d77d-4159-8bbd-bfed4fde3950",
   "metadata": {},
   "outputs": [],
   "source": [
    "file_path = \"qca.xlsx\"\n",
    "df = pd.read_excel(file_path)\n",
    "squad_data = {\"data\":[]}"
   ]
  },
  {
   "cell_type": "code",
   "execution_count": 5,
   "id": "e97e1f6a-497e-4664-b977-60dfa5ee71c0",
   "metadata": {},
   "outputs": [
    {
     "data": {
      "text/plain": [
       "Index(['Question', 'Context', 'Answer', 'answer_start'], dtype='object')"
      ]
     },
     "execution_count": 5,
     "metadata": {},
     "output_type": "execute_result"
    }
   ],
   "source": [
    "df.columns"
   ]
  },
  {
   "cell_type": "code",
   "execution_count": 7,
   "id": "b51c4519-8bbb-4721-99a9-8bb649794dc3",
   "metadata": {},
   "outputs": [
    {
     "name": "stdout",
     "output_type": "stream",
     "text": [
      "done\n"
     ]
    }
   ],
   "source": [
    "for i, row in df.iterrows():\n",
    "    paragraph = {\n",
    "        \"title\": f\"data item: {i+1}\",\n",
    "        \"paragraphs\": [{\n",
    "            \"context\": row[\"Context\"],\n",
    "            \"qas\":[{\n",
    "                \"id\":f\"q:{i+1}\",\n",
    "                \"question\":row[\"Question\"],\n",
    "                \"answers\":[{\n",
    "                    \"text\": row[\"Answer\"],\n",
    "                    \"answer_start\":row[\"answer_start\"]\n",
    "                }], \n",
    "                \"is_impossible\": False\n",
    "            }]\n",
    "        }]\n",
    "    }\n",
    "    squad_data['data'].append(paragraph)\n",
    "\n",
    "output_file =  \"squad_formated_qca.json\"\n",
    "with open(output_file, \"w\", encoding = \"utf-8\") as f:\n",
    "    json.dump(squad_data, f, indent = 4)\n",
    "print(\"done\")"
   ]
  },
  {
   "cell_type": "code",
   "execution_count": null,
   "id": "0cf7a5b2-18a0-4bef-b406-9e6b3a5d5000",
   "metadata": {},
   "outputs": [],
   "source": []
  }
 ],
 "metadata": {
  "kernelspec": {
   "display_name": "Python 3 (ipykernel)",
   "language": "python",
   "name": "python3"
  },
  "language_info": {
   "codemirror_mode": {
    "name": "ipython",
    "version": 3
   },
   "file_extension": ".py",
   "mimetype": "text/x-python",
   "name": "python",
   "nbconvert_exporter": "python",
   "pygments_lexer": "ipython3",
   "version": "3.11.7"
  }
 },
 "nbformat": 4,
 "nbformat_minor": 5
}
